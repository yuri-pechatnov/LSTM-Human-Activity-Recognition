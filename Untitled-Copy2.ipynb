{
 "cells": [
  {
   "cell_type": "code",
   "execution_count": 5,
   "metadata": {},
   "outputs": [
    {
     "data": {
      "text/plain": [
       "{'In': ['',\n",
       "  'globals()',\n",
       "  'globals()[\"_1\"]',\n",
       "  'globals()[\"_i1\"]',\n",
       "  'globals()[\"_i1\"] = 10',\n",
       "  'globals()'],\n",
       " 'Out': {1: {...}, 2: {...}, 3: 'globals()'},\n",
       " '_': 'globals()',\n",
       " '_1': {...},\n",
       " '_2': {...},\n",
       " '_3': 'globals()',\n",
       " '__': {...},\n",
       " '___': {...},\n",
       " '__builtin__': <module 'builtins' (built-in)>,\n",
       " '__builtins__': <module 'builtins' (built-in)>,\n",
       " '__doc__': 'Automatically created module for IPython interactive environment',\n",
       " '__loader__': None,\n",
       " '__name__': '__main__',\n",
       " '__package__': None,\n",
       " '__spec__': None,\n",
       " '_dh': ['/home/ura/diplom/LSTM-Human-Activity-Recognition'],\n",
       " '_i': 'globals()[\"_i1\"] = 10',\n",
       " '_i1': 10,\n",
       " '_i2': 'globals()[\"_1\"]',\n",
       " '_i3': 'globals()[\"_i1\"]',\n",
       " '_i4': 'globals()[\"_i1\"] = 10',\n",
       " '_i5': 'globals()',\n",
       " '_ih': ['',\n",
       "  'globals()',\n",
       "  'globals()[\"_1\"]',\n",
       "  'globals()[\"_i1\"]',\n",
       "  'globals()[\"_i1\"] = 10',\n",
       "  'globals()'],\n",
       " '_ii': 'globals()[\"_i1\"]',\n",
       " '_iii': 'globals()[\"_1\"]',\n",
       " '_oh': {1: {...}, 2: {...}, 3: 'globals()'},\n",
       " 'exit': <IPython.core.autocall.ZMQExitAutocall at 0x7f21a4745048>,\n",
       " 'get_ipython': <bound method InteractiveShell.get_ipython of <ipykernel.zmqshell.ZMQInteractiveShell object at 0x7f21a777cf28>>,\n",
       " 'quit': <IPython.core.autocall.ZMQExitAutocall at 0x7f21a4745048>}"
      ]
     },
     "execution_count": 5,
     "metadata": {},
     "output_type": "execute_result"
    }
   ],
   "source": [
    "globals()"
   ]
  },
  {
   "cell_type": "code",
   "execution_count": 7,
   "metadata": {},
   "outputs": [],
   "source": [
    "globals()[\"_i5\"] = 10"
   ]
  },
  {
   "cell_type": "code",
   "execution_count": 8,
   "metadata": {},
   "outputs": [
    {
     "data": {
      "text/plain": [
       "{'In': ['',\n",
       "  'globals()',\n",
       "  'globals()[\"_1\"]',\n",
       "  'globals()[\"_i1\"]',\n",
       "  'globals()[\"_i1\"] = 10',\n",
       "  'globals()',\n",
       "  'globals()[\"_i1\"] = 10',\n",
       "  'globals()[\"_i5\"] = 10',\n",
       "  '\\nglobals()'],\n",
       " 'Out': {1: {...}, 2: {...}, 3: 'globals()', 5: {...}},\n",
       " '_': {...},\n",
       " '_1': {...},\n",
       " '_2': {...},\n",
       " '_3': 'globals()',\n",
       " '_5': {...},\n",
       " '__': 'globals()',\n",
       " '___': {...},\n",
       " '__builtin__': <module 'builtins' (built-in)>,\n",
       " '__builtins__': <module 'builtins' (built-in)>,\n",
       " '__doc__': 'Automatically created module for IPython interactive environment',\n",
       " '__loader__': None,\n",
       " '__name__': '__main__',\n",
       " '__package__': None,\n",
       " '__spec__': None,\n",
       " '_dh': ['/home/ura/diplom/LSTM-Human-Activity-Recognition'],\n",
       " '_i': 'globals()[\"_i5\"] = 10',\n",
       " '_i1': 10,\n",
       " '_i2': 'globals()[\"_1\"]',\n",
       " '_i3': 'globals()[\"_i1\"]',\n",
       " '_i4': 'globals()[\"_i1\"] = 10',\n",
       " '_i5': 10,\n",
       " '_i6': 'globals()[\"_i1\"] = 10',\n",
       " '_i7': 'globals()[\"_i5\"] = 10',\n",
       " '_i8': '\\nglobals()',\n",
       " '_ih': ['',\n",
       "  'globals()',\n",
       "  'globals()[\"_1\"]',\n",
       "  'globals()[\"_i1\"]',\n",
       "  'globals()[\"_i1\"] = 10',\n",
       "  'globals()',\n",
       "  'globals()[\"_i1\"] = 10',\n",
       "  'globals()[\"_i5\"] = 10',\n",
       "  '\\nglobals()'],\n",
       " '_ii': 'globals()[\"_i1\"] = 10',\n",
       " '_iii': 'globals()',\n",
       " '_oh': {1: {...}, 2: {...}, 3: 'globals()', 5: {...}},\n",
       " 'exit': <IPython.core.autocall.ZMQExitAutocall at 0x7f21a4745048>,\n",
       " 'get_ipython': <bound method InteractiveShell.get_ipython of <ipykernel.zmqshell.ZMQInteractiveShell object at 0x7f21a777cf28>>,\n",
       " 'quit': <IPython.core.autocall.ZMQExitAutocall at 0x7f21a4745048>}"
      ]
     },
     "execution_count": 8,
     "metadata": {},
     "output_type": "execute_result"
    }
   ],
   "source": [
    "\n",
    "globals()"
   ]
  },
  {
   "cell_type": "code",
   "execution_count": null,
   "metadata": {},
   "outputs": [],
   "source": []
  }
 ],
 "metadata": {
  "kernelspec": {
   "display_name": "Python 3",
   "language": "python",
   "name": "python3"
  },
  "language_info": {
   "codemirror_mode": {
    "name": "ipython",
    "version": 3
   },
   "file_extension": ".py",
   "mimetype": "text/x-python",
   "name": "python",
   "nbconvert_exporter": "python",
   "pygments_lexer": "ipython3",
   "version": "3.5.2"
  }
 },
 "nbformat": 4,
 "nbformat_minor": 2
}
