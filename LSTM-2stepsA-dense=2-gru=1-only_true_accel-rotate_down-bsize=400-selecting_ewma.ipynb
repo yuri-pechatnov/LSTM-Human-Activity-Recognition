{
 "cells": [
  {
   "cell_type": "markdown",
   "metadata": {},
   "source": [
    "# GRU for Human Activity Recognition\n",
    "\n",
    "Human activity recognition using smartphones dataset and an LSTM RNN. Classifying the type of movement amongst six categories:\n",
    "- WALKING,\n",
    "- WALKING_UPSTAIRS,\n",
    "- WALKING_DOWNSTAIRS,\n",
    "- SITTING,\n",
    "- STANDING,\n",
    "- LAYING.\n",
    "\n",
    "Compared to a classical approach, using a Recurrent Neural Networks (RNN) with Gatet Recurent Unit cells (GRUs) require no or almost no feature engineering. Data can be fed directly into the neural network who acts like a black box, modeling the problem correctly. Other research on the activity recognition dataset used mostly use a big amount of feature engineering, which is rather a signal processing approach combined with classical data science techniques. The approach here is rather very simple in terms of how much did the data was preprocessed. \n",
    "\n",
    "\n",
    "## Details about input data\n",
    "\n",
    "I will be using an GRU on the data to learn (as a cellphone attached on the waist) to recognise the type of activity that the user is doing. The dataset's description goes like this:\n",
    "\n",
    "> The sensor signals (accelerometer and gyroscope) were pre-processed by applying noise filters and then sampled in fixed-width sliding windows of 2.56 sec and 50% overlap (128 readings/window). The sensor acceleration signal, which has gravitational and body motion components, was separated using a Butterworth low-pass filter into body acceleration and gravity. The gravitational force is assumed to have only low frequency components, therefore a filter with 0.3 Hz cutoff frequency was used. \n",
    "\n",
    "That said, I will use the almost raw data: only the gravity effect has been filtered out of the accelerometer  as a preprocessing step for another 3D feature as an input to help learning. \n",
    "\n",
    "## What is an RNN?\n",
    "\n",
    "As explained in [this article](http://karpathy.github.io/2015/05/21/rnn-effectiveness/), an RNN takes many input vectors to process them and output other vectors. It can be roughly pictured like in the image below, imagining each rectangle has a vectorial depth and other special hidden quirks in the image below. **In our case, the \"many to one\" architecture is used**: we accept time series of feature vectors (one vector per time step) to convert them to a probability vector at the output for classification. Note that a \"one to one\" architecture would be a standard feedforward neural network. \n",
    "\n",
    "<img src=\"http://karpathy.github.io/assets/rnn/diags.jpeg\" />\n",
    "\n",
    "An GRU is an improved RNN. It is more complex, but easier to train, avoiding what is called the vanishing gradient problem. \n"
   ]
  },
  {
   "cell_type": "code",
   "execution_count": 3,
   "metadata": {},
   "outputs": [],
   "source": [
    "import numpy as np\n",
    "import pandas as pd\n",
    "import matplotlib\n",
    "import matplotlib.pyplot as plt\n",
    "import tensorflow as tf  # Version 1.0.0 (some previous versions are used in past commits)\n",
    "from sklearn import metrics\n",
    "from time import time\n",
    "import os\n",
    "import sys"
   ]
  },
  {
   "cell_type": "code",
   "execution_count": 4,
   "metadata": {},
   "outputs": [],
   "source": [
    "# some reflection\n",
    "\n",
    "def is_notebook():\n",
    "    try:\n",
    "        shell = get_ipython().__class__.__name__\n",
    "        if shell == 'ZMQInteractiveShell':\n",
    "            return True   # Jupyter notebook or qtconsole\n",
    "        elif shell == 'TerminalInteractiveShell':\n",
    "            return False  # Terminal running IPython\n",
    "        else:\n",
    "            return False  # Other type (?)\n",
    "    except NameError:\n",
    "        return False      # Probably standard Python interpreter\n",
    "    \n",
    "if not is_notebook():\n",
    "    def get_ipython():\n",
    "        class Mock:\n",
    "            def run_cell_magic(*args):\n",
    "                pass\n",
    "            def system(self, arg):\n",
    "                os.system(arg)\n",
    "                \n",
    "        return Mock()"
   ]
  },
  {
   "cell_type": "code",
   "execution_count": 5,
   "metadata": {},
   "outputs": [],
   "source": [
    "def notify(msg):\n",
    "    print(msg)\n",
    "    try:\n",
    "        get_ipython().system('ypnotify \"' + msg + '\"')\n",
    "    except:\n",
    "        print(\"can't notify\")"
   ]
  },
  {
   "cell_type": "code",
   "execution_count": 6,
   "metadata": {},
   "outputs": [
    {
     "data": {
      "application/javascript": [
       "var i = document.createElement(\"img\"); i.src = \"http://localhost:56839/\" + IPython.notebook.notebook_name;"
      ],
      "text/plain": [
       "<IPython.core.display.Javascript object>"
      ]
     },
     "metadata": {},
     "output_type": "display_data"
    },
    {
     "name": "stdout",
     "output_type": "stream",
     "text": [
      "name is found: LSTM-2stepsA-dense=2-gru=1-only_true_accel-rotate_down-bsize=400-dev-Copy1.ipynb\n"
     ]
    }
   ],
   "source": [
    "def find_nb_name():\n",
    "    from http.server import BaseHTTPRequestHandler, HTTPServer # python3\n",
    "    class HandleRequests(BaseHTTPRequestHandler):\n",
    "        def do_GET(self):\n",
    "            global nb_name\n",
    "            nb_name = self.requestline.split()[1][1:]\n",
    "            print(\"name is found: \" + nb_name)\n",
    "\n",
    "    import socket\n",
    "    from contextlib import closing\n",
    "\n",
    "    def find_free_port():\n",
    "        with closing(socket.socket(socket.AF_INET, socket.SOCK_STREAM)) as s:\n",
    "            s.bind(('',0))\n",
    "            return s.getsockname()[1]\n",
    "\n",
    "    host = ''\n",
    "    port = find_free_port()\n",
    "    server = HTTPServer((host, port), HandleRequests)\n",
    "    server.server_activate()#.serve_forever()\n",
    "    get_ipython().run_cell_magic('javascript', '', 'var i = document.createElement(\"img\");' + \n",
    "                                 ' i.src = \"http://localhost:' + str(port) + \n",
    "                                '/\" + IPython.notebook.notebook_name;')\n",
    "    server.handle_request()\n",
    "\n",
    "if is_notebook():\n",
    "    find_nb_name()"
   ]
  },
  {
   "cell_type": "code",
   "execution_count": 7,
   "metadata": {},
   "outputs": [
    {
     "name": "stdout",
     "output_type": "stream",
     "text": [
      "Namespace(batch_size=400, ewma_halflife=4, lr=0.0025, n_hidden=16, training_iterate_dataset_times=200, use_adam=False, use_rmsprop=False)\n"
     ]
    }
   ],
   "source": [
    "\n",
    "# standartize arguments\n",
    "if is_notebook():\n",
    "    sys.argv = [nb_name]\n",
    "sys.argv\n",
    "\n",
    "import argparse\n",
    "\n",
    "parser = argparse.ArgumentParser(description='HAR task solution with limited RAM and CPU')\n",
    "\n",
    "parser.add_argument('--nhidden', dest='n_hidden', type=int, default=16,\n",
    "                    help='Amount of hidden variables in recurrent unit')\n",
    "parser.add_argument('--lr', dest='lr', type=float, default=0.0025,\n",
    "                    help='Learning rate')\n",
    "parser.add_argument('--bsize', dest='batch_size', type=int, default=400,\n",
    "                    help='batch size')\n",
    "parser.add_argument('--training_iterate_dataset_times', dest='training_iterate_dataset_times', \n",
    "                    type=int, default=200, help='Loop <training_iterate_dataset_times> times on the dataset')\n",
    "parser.add_argument('--ewma', dest='ewma_halflife', \n",
    "                    type=int, default=4, help='halflife in exponential smoothing and splitting to average and noise')\n",
    "\n",
    "parser.add_argument('--use_adam', dest=\"use_adam\", action='store_true')\n",
    "parser.add_argument('--use_rmsprop', dest=\"use_rmsprop\", action='store_true')\n",
    "\n",
    "args = parser.parse_args()\n",
    "print(args)\n",
    "\n"
   ]
  },
  {
   "cell_type": "code",
   "execution_count": 8,
   "metadata": {},
   "outputs": [],
   "source": [
    "# Useful Constants\n",
    "\n",
    "# Those are separate normalised input features for the neural network\n",
    "INPUT_SIGNAL_TYPES = [\n",
    "    \"total_acc_x_\", \"total_acc_y_\", \"total_acc_z_\"\n",
    "]\n",
    "\n",
    "# Output classes to learn how to classify\n",
    "LABELS = [\n",
    "    \"WALKING\", \n",
    "    \"WALKING_UPSTAIRS\", \n",
    "    \"WALKING_DOWNSTAIRS\", \n",
    "    \"SITTING\", \n",
    "    \"STANDING\", \n",
    "    \"LAYING\"\n",
    "] \n"
   ]
  },
  {
   "cell_type": "markdown",
   "metadata": {},
   "source": [
    "## Let's start by downloading the data: "
   ]
  },
  {
   "cell_type": "code",
   "execution_count": 9,
   "metadata": {},
   "outputs": [
    {
     "name": "stdout",
     "output_type": "stream",
     "text": [
      "\n",
      "Downloading...\n",
      "Dataset already downloaded. Did not download twice.\n",
      "\n",
      "Extracting...\n",
      "Dataset already extracted. Did not extract twice.\n",
      "\n",
      "\n",
      "Dataset is now located at: data/UCI HAR Dataset/\n"
     ]
    }
   ],
   "source": [
    "# Note: Linux bash commands start with a \"!\" inside those \"ipython notebook\" cells\n",
    "\n",
    "DATA_PATH = \"data/\"\n",
    "\n",
    "os.chdir(DATA_PATH)\n",
    "!python download_dataset.py\n",
    "os.chdir(\"..\")\n",
    "\n",
    "DATASET_PATH = DATA_PATH + \"UCI HAR Dataset/\"\n",
    "print(\"\\n\" + \"Dataset is now located at: \" + DATASET_PATH)\n"
   ]
  },
  {
   "cell_type": "code",
   "execution_count": 8,
   "metadata": {},
   "outputs": [
    {
     "data": {
      "text/plain": [
       "(2947, 128)"
      ]
     },
     "execution_count": 8,
     "metadata": {},
     "output_type": "execute_result"
    }
   ],
   "source": [
    "pd.read_csv(\"data/UCI HAR Dataset/test/Inertial Signals/total_acc_x_test.txt\", \n",
    "            header=None, sep=' ', skipinitialspace=True).values.shape"
   ]
  },
  {
   "cell_type": "markdown",
   "metadata": {},
   "source": [
    "## Preparing dataset:"
   ]
  },
  {
   "cell_type": "code",
   "execution_count": 9,
   "metadata": {},
   "outputs": [],
   "source": [
    "# Load \"X\" (the neural network's training and testing inputs)\n",
    "def load_X(signals_paths):\n",
    "    X_signals = [pd.read_csv(path, header=None, sep=' ', skipinitialspace=True).values\n",
    "                 for path in signals_paths] \n",
    "    return np.transpose(np.array(X_signals), (1, 2, 0))\n",
    "\n",
    "X_train = load_X([DATASET_PATH + \"train/Inertial Signals/\" + signal + \"train.txt\" for signal in INPUT_SIGNAL_TYPES])\n",
    "X_test = load_X([DATASET_PATH + \"test/Inertial Signals/\" + signal + \"test.txt\" for signal in INPUT_SIGNAL_TYPES])\n",
    "\n",
    "# Load \"y\" (the neural network's training and testing outputs)\n",
    "def load_y(path):\n",
    "    return pd.read_csv(path, header=None, sep=' ', skipinitialspace=True).values - 1\n",
    "\n",
    "make_y_easier_m = [0, 1, 1, 3, 3, 3]\n",
    "def make_y_easier(y):\n",
    "    return np.array([make_y_easier_m[int(i)] for i in y])\n",
    "\n",
    "y_train = load_y(DATASET_PATH + \"train/y_train.txt\")\n",
    "y_easier_train = make_y_easier(y_train)\n",
    "y_test = load_y(DATASET_PATH + \"test/y_test.txt\")\n",
    "y_easier_test = make_y_easier(y_test)"
   ]
  },
  {
   "cell_type": "code",
   "execution_count": 10,
   "metadata": {},
   "outputs": [],
   "source": [
    "def shuffle_all(*args):\n",
    "    perm = np.random.permutation(len(args[0]))\n",
    "    return [np.array(arg)[perm] for arg in args]\n",
    "\n",
    "X_train, y_train, y_easier_train = shuffle_all(X_train, y_train, y_easier_train)"
   ]
  },
  {
   "cell_type": "code",
   "execution_count": 11,
   "metadata": {},
   "outputs": [],
   "source": [
    "from sklearn.decomposition import PCA\n",
    "\n",
    "def calc_rotation_zero_not_first(h):\n",
    "    h = np.array(h)\n",
    "    \n",
    "    # max axis to first position\n",
    "    gci = np.argmax(np.abs(h))\n",
    "    fmax_m = np.matrix(np.diag([1, 1, 1]))\n",
    "    if gci != 0:\n",
    "        fmax_m[0], fmax_m[gci] = np.matrix(fmax_m[gci]), np.matrix(fmax_m[0])\n",
    "        fmax_m *= -1\n",
    "    h = np.array(fmax_m * np.matrix(h).T).ravel()\n",
    "    \n",
    "    #make first axis positive\n",
    "    fsign_m = np.matrix(np.diag([(1 if h[0] > 0 else -1)] * 2 + [1]))\n",
    "    h = np.array(fsign_m * np.matrix(h).T).ravel()\n",
    "    \n",
    "    # zero second\n",
    "    phi = np.arctan2(h[2], h[0])\n",
    "    s, c = np.sin(phi), np.cos(phi)\n",
    "    zero2nd_m = np.matrix(np.array([\n",
    "        [c, 0, s],\n",
    "        [0, 1, 0],\n",
    "        [-s, 0, c],\n",
    "    ]))\n",
    "    h = np.array(zero2nd_m * np.matrix(h).T).ravel()\n",
    "    \n",
    "    # zero first\n",
    "    phi = np.arctan2(h[1], h[0])\n",
    "    s, c = np.sin(phi), np.cos(phi)\n",
    "    zero1st_m = np.matrix(np.array([\n",
    "        [c, s, 0],\n",
    "        [-s, c, 0],\n",
    "        [0, 0, 1],\n",
    "    ]))\n",
    "    h = np.array(zero1st_m * np.matrix(h).T).ravel()\n",
    "    \n",
    "    final_rotation = zero1st_m * zero2nd_m * fsign_m * fmax_m\n",
    "    \n",
    "    return final_rotation\n",
    "    \n",
    "#print(calc_rotation_zero_not_first(np.array([1, 2, 3])))\n",
    "\n",
    "def align_0th(xyz):\n",
    "    xyz = np.array(xyz)\n",
    "    h = xyz.mean(axis=0)\n",
    "    m = calc_rotation_zero_not_first(h)\n",
    "    return np.array(m * np.matrix(xyz).T).T\n",
    "\n",
    "def align_determ(xyz):\n",
    "    xyz = align_0th(xyz)\n",
    "    pcator = PCA(n_components=2)\n",
    "    pcator.fit(xyz[:, 1:3])\n",
    "    xyz[:, 1:3] = pcator.transform(xyz[:, 1:3])\n",
    "    return xyz\n",
    "\n",
    "def split_avg_noise(xyz):\n",
    "    smoothed = pd.ewma(pd.DataFrame(xyz), halflife=args.ewma_halflife).values\n",
    "    return smoothed, xyz - smoothed"
   ]
  },
  {
   "cell_type": "code",
   "execution_count": 12,
   "metadata": {
    "scrolled": true
   },
   "outputs": [],
   "source": [
    "if is_notebook() and False:\n",
    "    def show_serie(i):\n",
    "        display(LABELS[int(y_train[i])])\n",
    "\n",
    "        pd.DataFrame(X_train[i, :, 0:3] - split_avg_noise(X_train[i, :, 0:3])).plot(figsize=(10, 10))\n",
    "        plt.show()\n",
    "        \n",
    "        pd.DataFrame(X_train[i, :, 0:3]).plot(figsize=(10, 10))\n",
    "        plt.show()\n",
    "   \n",
    "    show_serie(0)\n",
    "    show_serie(101)"
   ]
  },
  {
   "cell_type": "code",
   "execution_count": 13,
   "metadata": {},
   "outputs": [
    {
     "name": "stderr",
     "output_type": "stream",
     "text": [
      "LSTM-2stepsA-dense=2-gru=1-only_true_accel-rotate_down-bsize=400-dev.ipynb:58: FutureWarning: pd.ewm_mean is deprecated for DataFrame and will be removed in a future version, replace with \n",
      "\tDataFrame.ewm(halflife=4,ignore_na=False,adjust=True,min_periods=0).mean()\n",
      "  \"outputs\": [],\n"
     ]
    },
    {
     "name": "stdout",
     "output_type": "stream",
     "text": [
      "(7352, 128, 3)\n"
     ]
    }
   ],
   "source": [
    "def align_X(X):\n",
    "    X = np.array(X)\n",
    "    if args.ewma_halflife != 0:\n",
    "        Y = np.array(X)\n",
    "        for i in range(X.shape[0]):\n",
    "            X[i], Y[i] = split_avg_noise(X[i])\n",
    "        X = np.concatenate([X, Y], axis=2)\n",
    "    else:\n",
    "        for i in range(X.shape[0]):\n",
    "            X[i] = align_determ(X[i])\n",
    "    return X\n",
    "    \n",
    "X_train = align_X(X_train)\n",
    "X_test = align_X(X_test)\n",
    "print(X_train.shape)"
   ]
  },
  {
   "cell_type": "markdown",
   "metadata": {},
   "source": [
    "## Additionnal Parameters:\n",
    "\n",
    "Here are some core parameter definitions for the training. \n",
    "\n",
    "The whole neural network's structure could be summarised by enumerating those parameters and the fact an LSTM is used. "
   ]
  },
  {
   "cell_type": "code",
   "execution_count": 14,
   "metadata": {},
   "outputs": [
    {
     "name": "stdout",
     "output_type": "stream",
     "text": [
      "Some useful info to get an insight on dataset's shape and normalisation:\n",
      "(X shape, y shape, every X's mean, every X's standard deviation)\n",
      "(2947, 128, 3) (2947, 1) 0.300775238166 0.514733934867\n",
      "The dataset is therefore properly normalised, as expected, but not yet one-hot encoded.\n"
     ]
    }
   ],
   "source": [
    "# Input Data \n",
    "\n",
    "training_data_count = len(X_train)  # 7352 training series (with 50% overlap between each serie)\n",
    "test_data_count = len(X_test)  # 2947 testing series\n",
    "n_steps = len(X_train[0])  # 128 timesteps per series\n",
    "n_input = len(X_train[0][0])  # 3 input parameters per timestep\n",
    "\n",
    "\n",
    "# LSTM Neural Network's internal structure\n",
    "\n",
    "n_hidden = args.n_hidden # Hidden layer num of features\n",
    "n_classes = y_test.max() + 1 # 6 - total classes (should go up, or should go down)\n",
    "n_easier_classes = y_easier_test.max() + 1 # also 6\n",
    "\n",
    "# Training \n",
    "\n",
    "learning_rate = args.lr\n",
    "lambda_loss_amount = 0.0015\n",
    "training_iters = training_data_count * args.training_iterate_dataset_times\n",
    "batch_size = args.batch_size\n",
    "display_iter = 50  # To show test set accuracy during training\n",
    "\n",
    "# Some debugging info\n",
    "\n",
    "print(\"Some useful info to get an insight on dataset's shape and normalisation:\")\n",
    "print(\"(X shape, y shape, every X's mean, every X's standard deviation)\")\n",
    "print(X_test.shape, y_test.shape, np.mean(X_test), np.std(X_test))\n",
    "print(\"The dataset is therefore properly normalised, as expected, but not yet one-hot encoded.\")\n"
   ]
  },
  {
   "cell_type": "markdown",
   "metadata": {},
   "source": [
    "## Utility functions for training:"
   ]
  },
  {
   "cell_type": "code",
   "execution_count": 15,
   "metadata": {},
   "outputs": [],
   "source": [
    "def MAKE_RNN(_X):\n",
    "    # Function returns a tensorflow GRU (RNN) artificial neural network from given parameters. \n",
    "    # input shape: (batch_size, n_steps, n_input)\n",
    "    \n",
    "    # Linear activation\n",
    "    _X = tf.layers.dense(_X, n_hidden, activation=tf.nn.relu)\n",
    "    \n",
    "    # Split data because rnn cell needs a list of inputs for the RNN inner loop\n",
    "    _X = tf.unstack(_X, n_steps, 1)\n",
    "    \n",
    "    gru_cell_1 = tf.contrib.rnn.GRUCell(n_hidden, activation=tf.nn.relu)\n",
    "    rnn_cells = tf.contrib.rnn.MultiRNNCell([gru_cell_1], state_is_tuple=True)\n",
    "    \n",
    "    outputs, states = tf.contrib.rnn.static_rnn(rnn_cells, _X, dtype=tf.float32)\n",
    "\n",
    "    rnn_last_output = outputs[-1]\n",
    "    \n",
    "    before_split = tf.layers.dense(rnn_last_output, n_classes * 2)\n",
    "    \n",
    "    return tf.layers.dense(before_split, n_classes), tf.layers.dense(rnn_last_output, n_classes)\n",
    "    \n",
    "\n",
    "def extract_batch(_train, step, batch_size):\n",
    "    # Function to fetch a \"batch_size\" amount of data from \"(X|y)_train\" data. \n",
    "    \n",
    "    shape = list(_train.shape)\n",
    "    shape[0] = batch_size\n",
    "    batch_s = np.empty(shape)\n",
    "\n",
    "    for i in range(batch_size):\n",
    "        # Loop index\n",
    "        index = ((step-1)*batch_size + i) % len(_train)\n",
    "        batch_s[i] = _train[index] \n",
    "\n",
    "    return batch_s\n",
    "\n",
    "\n",
    "def one_hot(y_, n_values=n_classes):\n",
    "    # Function to encode output labels from number indexes \n",
    "    # e.g.: [[5], [0], [3]] --> [[0, 0, 0, 0, 0, 1], [1, 0, 0, 0, 0, 0], [0, 0, 0, 1, 0, 0]]\n",
    "    \n",
    "    y_ = y_.reshape(len(y_))\n",
    "    return np.eye(n_values)[np.array(y_, dtype=np.int32)]  # Returns FLOATS\n",
    "\n",
    "def extract_batch_xy(x, y, step, batch_size):\n",
    "    return extract_batch(x, step, batch_size), one_hot(extract_batch(y, step, batch_size))"
   ]
  },
  {
   "cell_type": "markdown",
   "metadata": {},
   "source": [
    "## Let's get serious and build the neural network:"
   ]
  },
  {
   "cell_type": "code",
   "execution_count": 16,
   "metadata": {},
   "outputs": [],
   "source": [
    "from collections import namedtuple\n",
    "\n",
    "class TfVars:\n",
    "    def __init__(self):\n",
    "        crossentropy = tf.nn.softmax_cross_entropy_with_logits\n",
    "        self.OptClass = tf.train.RMSPropOptimizer\n",
    "        if args.use_adam:\n",
    "            self.OptClass = tf.train.AdamOptimizer\n",
    "    \n",
    "        # Graph input/output\n",
    "        self.x = tf.placeholder(tf.float32, [None, n_steps, n_input])\n",
    "        self.y = tf.placeholder(tf.float32, [None, n_classes])\n",
    "        self.lr = tf.placeholder(tf.float32, shape=[])\n",
    "        \n",
    "        pred, pred_easier = MAKE_RNN(self.x) \n",
    "        \n",
    "        self.LearnVariant = namedtuple('LearnVariant', ['cost', 'optimizer', \"accuracy\", \"tfv\", \"pred\"])\n",
    "        \n",
    "        def cost_opt_acc(pred):\n",
    "            cost = tf.reduce_mean(crossentropy(labels=self.y, logits=pred))\n",
    "            opt = self.OptClass(learning_rate=self.lr).minimize(cost)\n",
    "            pred_c = tf.equal(tf.argmax(pred,1), tf.argmax(self.y,1))\n",
    "            acc = tf.reduce_mean(tf.cast(pred_c, tf.float32))\n",
    "            return self.LearnVariant(cost=cost, optimizer=opt, accuracy=acc, tfv = self, pred=pred)\n",
    "        \n",
    "        self.normal = cost_opt_acc(pred)\n",
    "        self.easier = cost_opt_acc(pred_easier)\n",
    "        \n",
    "tfv = TfVars()"
   ]
  },
  {
   "cell_type": "markdown",
   "metadata": {},
   "source": [
    "## Hooray, now train the neural network:\n",
    "### First stage of training (easier):"
   ]
  },
  {
   "cell_type": "code",
   "execution_count": 17,
   "metadata": {},
   "outputs": [],
   "source": [
    "# Launch the graph\n",
    "sess = tf.InteractiveSession(config=tf.ConfigProto(log_device_placement=False))\n",
    "init = tf.global_variables_initializer()\n",
    "sess.run(init)"
   ]
  },
  {
   "cell_type": "code",
   "execution_count": null,
   "metadata": {},
   "outputs": [
    {
     "data": {
      "image/png": "[encoded data removed]",
      "text/plain": [
       "<matplotlib.figure.Figure at 0x7f8ea04241d0>"
      ]
     },
     "metadata": {},
     "output_type": "display_data"
    },
    {
     "name": "stdout",
     "output_type": "stream",
     "text": [
      "Training iter #1460000Accuracy = 0.997499942779541\n",
      "PERFORMANCE ON TEST SET: Accuracy = 0.9324736595153809\n",
      "Optimization Finished!\n",
      "INTERMEDIATE RESULT: Accuracy = 0.9362062215805054\n",
      "Notification SUCCESS\n"
     ]
    }
   ],
   "source": [
    "start_learning_time = time()\n",
    "\n",
    "from IPython.display import clear_output\n",
    "#To keep track of training's performance\n",
    "test_losses = []\n",
    "test_accuracies = []\n",
    "train_losses = []\n",
    "train_accuracies = []\n",
    "\n",
    "\n",
    "def learn(variant, bx, by):\n",
    "    _, loss, acc = sess.run(\n",
    "        [variant.optimizer, variant.cost, variant.accuracy],\n",
    "        feed_dict={\n",
    "            variant.tfv.x: bx, \n",
    "            variant.tfv.y: by,\n",
    "            variant.tfv.lr: learning_rate\n",
    "        }\n",
    "    )\n",
    "    return loss, acc\n",
    "\n",
    "def estimate_on_test(variant, ans):\n",
    "    return sess.run(\n",
    "        [variant.cost, variant.accuracy], \n",
    "        feed_dict={\n",
    "            variant.tfv.x: X_test,\n",
    "            variant.tfv.y: one_hot(ans)\n",
    "        }\n",
    "    )\n",
    "\n",
    "def init_default_plot():\n",
    "    fig = plt.figure(figsize=(12, 12))\n",
    "    ax = fig.add_subplot(1, 1, 1)\n",
    "    \n",
    "    plt.axhline(y=1.0, c='r')\n",
    "    plt.axhline(y=0.9, c='orange')\n",
    "    plt.ylim(0, 2)\n",
    "    \n",
    "    ax.set_yticks(list(ax.get_yticks()) + [0.9])\n",
    "\n",
    "\n",
    "    \n",
    "# Perform Training steps with \"batch_size\" amount of example data at each loop\n",
    "step = 1\n",
    "diter = 0\n",
    "while step * batch_size <= training_iters:\n",
    "    batch_xs, batch_ys = extract_batch_xy(X_train, y_easier_train, step, batch_size)\n",
    "\n",
    "    # Fit training using batch data\n",
    "    loss, acc = learn(tfv.easier, batch_xs, batch_ys)\n",
    "    train_losses.append(loss)\n",
    "    train_accuracies.append(acc)\n",
    "    \n",
    "    # Evaluate network only at some steps for faster training: \n",
    "    if is_notebook() and step % display_iter == 0:\n",
    "        diter += 1\n",
    "        # To not spam console, show training accuracy/loss in this \"if\"\n",
    "        \n",
    "        # Evaluation on the test set (no learning made here - just evaluation for diagnosis)\n",
    "        test_loss, test_acc = estimate_on_test(tfv.easier, y_easier_test)\n",
    "        test_losses.append(test_loss)\n",
    "        test_accuracies.append(test_acc)\n",
    "        clear_output(True)\n",
    "\n",
    "        init_default_plot()\n",
    "        \n",
    "        ixs = np.array(range(diter))\n",
    "        plt.plot(ixs, np.array(test_losses),     \"b-\", label=\"Test losses\")\n",
    "        plt.plot(ixs, np.array(test_accuracies), \"g-\", label=\"Test accuracies\")\n",
    "\n",
    "        plt.title(\"Training session's progress over iterations\")\n",
    "        plt.legend(loc='upper right', shadow=True)\n",
    "        plt.ylabel('Training Progress (Loss or Accuracy values)')\n",
    "        plt.xlabel('Training iteration')\n",
    "\n",
    "        plt.show()\n",
    "        \n",
    "        print(\"Training iter #\" + str(step * batch_size) + \\\n",
    "              \"Accuracy = {}\".format(acc))\n",
    "\n",
    "        print(\"PERFORMANCE ON TEST SET: \" + \\\n",
    "              \"Accuracy = {}\".format(test_acc))\n",
    "    \n",
    "    if step % int(X_train.shape[0] / batch_size) == 0:\n",
    "        X_train, y_train, y_easier_train = shuffle_all(X_train, y_train, y_easier_train)\n",
    "        \n",
    "    step += 1\n",
    "\n",
    "# change task\n",
    "step = 1\n",
    "while step * batch_size <= training_iters and False:\n",
    "    batch_xs, batch_ys = extract_batch_xy(X_train, y_easier_train, step, batch_size)\n",
    "\n",
    "    # Fit training using batch data\n",
    "    loss, acc = learn(tfv.easier, batch_xs, 5 - batch_ys)\n",
    "    train_losses.append(loss)\n",
    "    train_accuracies.append(acc)\n",
    "    \n",
    "    # Evaluate network only at some steps for faster training: \n",
    "    if is_notebook() and step % display_iter == 0:\n",
    "        diter += 1\n",
    "        # To not spam console, show training accuracy/loss in this \"if\"\n",
    "        \n",
    "        # Evaluation on the test set (no learning made here - just evaluation for diagnosis)\n",
    "        test_loss, test_acc = estimate_on_test(tfv.easier, 5 - y_easier_test)\n",
    "        test_losses.append(test_loss)\n",
    "        test_accuracies.append(test_acc)\n",
    "        clear_output(True)\n",
    "\n",
    "        init_default_plot()\n",
    "        \n",
    "        ixs = np.array(range(diter))\n",
    "        plt.plot(ixs, np.array(test_losses),     \"b-\", label=\"Test losses\")\n",
    "        plt.plot(ixs, np.array(test_accuracies), \"g-\", label=\"Test accuracies\")\n",
    "\n",
    "        plt.title(\"Training session's progress over iterations\")\n",
    "        plt.legend(loc='upper right', shadow=True)\n",
    "        plt.ylabel('Training Progress (Loss or Accuracy values)')\n",
    "        plt.xlabel('Training iteration')\n",
    "\n",
    "        plt.show()\n",
    "        \n",
    "        print(\"Training iter #\" + str(step * batch_size) + \\\n",
    "              \" Accuracy = {}\".format(acc))\n",
    "\n",
    "        print(\"PERFORMANCE ON TEST SET: \" + \\\n",
    "              \"Accuracy = {}\".format(test_acc))\n",
    "    \n",
    "    if step % int(X_train.shape[0] / batch_size) == 0:\n",
    "        X_train, y_train, y_easier_train = shuffle_all(X_train, y_train, y_easier_train)\n",
    "        \n",
    "    step += 1\n",
    "\n",
    "print(\"Optimization Finished!\")\n",
    "\n",
    "# Accuracy for test data\n",
    "\n",
    "test_loss, test_acc = estimate_on_test(tfv.easier, y_easier_test)\n",
    "test_losses.append(test_loss)\n",
    "test_accuracies.append(test_acc)\n",
    "\n",
    "notify(\"INTERMEDIATE RESULT: \" + \\\n",
    "      \"Accuracy = {}\".format(test_acc))"
   ]
  },
  {
   "cell_type": "markdown",
   "metadata": {},
   "source": [
    "### Second stage (normal)"
   ]
  },
  {
   "cell_type": "code",
   "execution_count": null,
   "metadata": {
    "scrolled": false
   },
   "outputs": [
    {
     "data": {
      "image/png": "[encoded data removed]",
      "text/plain": [
       "<matplotlib.figure.Figure at 0x7f8ea0de2400>"
      ]
     },
     "metadata": {},
     "output_type": "display_data"
    },
    {
     "name": "stdout",
     "output_type": "stream",
     "text": [
      "Training iter #700000 Accuracy = 0.940000057220459\n",
      "PERFORMANCE ON TEST SET: Accuracy = 0.8534101843833923, Accuracy easier = 0.9429927468299866\n"
     ]
    }
   ],
   "source": [
    "test_losses = []\n",
    "test_accuracies = []\n",
    "test_losses_easier = []\n",
    "test_accuracies_easier = []\n",
    "train_losses = []\n",
    "train_accuracies = []\n",
    "\n",
    "# Perform Training steps with \"batch_size\" amount of example data at each loop\n",
    "step = 1\n",
    "diter = 0\n",
    "training_iters2 = training_iters * 2\n",
    "\n",
    "while step * batch_size <= training_iters2:\n",
    "    batch_xs, batch_ys = extract_batch_xy(X_train, y_train, step, batch_size)\n",
    "\n",
    "    # period of moving from easy task to normal task\n",
    "    if step * batch_size <= training_iters2 / 2:\n",
    "        _, batch_ys_easier = extract_batch_xy(X_train, y_easier_train, step, batch_size)\n",
    "        learn(tfv.easier, batch_xs, batch_ys_easier)\n",
    "    \n",
    "    # Fit training using batch data\n",
    "    loss, acc = learn(tfv.normal, batch_xs, batch_ys)\n",
    "    train_losses.append(loss)\n",
    "    train_accuracies.append(acc)\n",
    "    \n",
    "    # Evaluate network only at some steps for faster training: \n",
    "    if is_notebook() and step % display_iter == 0:\n",
    "        diter += 1\n",
    "        # To not spam console, show training accuracy/loss in this \"if\"\n",
    "        \n",
    "        # Evaluation on the test set (no learning made here - just evaluation for diagnosis)\n",
    "        test_loss, test_acc = estimate_on_test(tfv.normal, y_test)\n",
    "        test_losses.append(test_loss)\n",
    "        test_accuracies.append(test_acc)\n",
    "        test_loss_easier, test_acc_easier = estimate_on_test(tfv.easier, y_easier_test)\n",
    "        test_losses_easier.append(test_loss_easier)\n",
    "        test_accuracies_easier.append(test_acc_easier)\n",
    "        \n",
    "        clear_output(True)\n",
    "\n",
    "        init_default_plot()\n",
    "        \n",
    "        ixs = np.array(range(diter))\n",
    "        plt.plot(ixs, np.array(test_losses),     \"b-\", label=\"Test losses\")\n",
    "        plt.plot(ixs, np.array(test_accuracies), \"g-\", label=\"Test accuracies\")\n",
    "        \n",
    "        plt.plot(ixs, np.array(test_accuracies_easier), \"magenta\", label=\"Test accuracies easier\")\n",
    "\n",
    "        plt.title(\"Training session's progress over iterations\")\n",
    "        plt.legend(loc='upper right', shadow=True)\n",
    "        plt.ylabel('Training Progress (Loss or Accuracy values)')\n",
    "        plt.xlabel('Training iteration')\n",
    "\n",
    "        plt.show()\n",
    "        \n",
    "        print(\"Training iter #\" + str(step * batch_size) +\n",
    "              \" Accuracy = {}\".format(acc))\n",
    "\n",
    "        print(\"PERFORMANCE ON TEST SET: \" +\n",
    "              \"Accuracy = {}\".format(test_acc) +\n",
    "              \", Accuracy easier = {}\".format(test_acc_easier))\n",
    "    \n",
    "    if step % int(X_train.shape[0] / batch_size) == 0:\n",
    "        X_train, y_train, y_easier_train = shuffle_all(X_train, y_train, y_easier_train)\n",
    "        \n",
    "    step += 1\n",
    "\n",
    "print(\"Optimization Finished!\")\n",
    "\n",
    "# Accuracy for test data\n",
    "\n",
    "test_loss, test_acc = estimate_on_test(tfv.normal, y_test)\n",
    "test_losses.append(test_loss)\n",
    "test_accuracies.append(test_acc)\n",
    "\n",
    "notify(\"FINAL RESULT: \" + \\\n",
    "      \"Accuracy = {}\".format(test_acc))"
   ]
  },
  {
   "cell_type": "code",
   "execution_count": null,
   "metadata": {},
   "outputs": [],
   "source": [
    "if not is_notebook():\n",
    "    test_loss, test_acc = estimate_on_test(tfv.normal, y_test)\n",
    "    \n",
    "    argsdict = dict(args.__dict__)\n",
    "    argsdict.update({\n",
    "        \"accuracy\": float(test_acc),\n",
    "        \"time\": float(time() - start_learning_time),\n",
    "        \"memory\": sum(int(np.prod(var.shape)) for var in tf.trainable_variables()) * 4,\n",
    "    })\n",
    "    print(\"RESULT \" + str(argsdict))\n",
    "    exit(0)"
   ]
  },
  {
   "cell_type": "markdown",
   "metadata": {},
   "source": [
    "## Training is good, but having visual insight is even better:\n",
    "\n",
    "Okay, let's plot this simply in the notebook for now."
   ]
  },
  {
   "cell_type": "code",
   "execution_count": null,
   "metadata": {},
   "outputs": [],
   "source": [
    "# (Inline plots: )\n",
    "%matplotlib inline\n",
    "\n",
    "font = {\n",
    "    'weight' : 'bold',\n",
    "    'size'   : 18\n",
    "}\n",
    "matplotlib.rc('font', **font)\n",
    "\n",
    "width = 12\n",
    "height = 12\n",
    "plt.figure(figsize=(width, height))\n",
    "\n",
    "indep_train_axis = np.array(range(batch_size, (len(train_losses)+1)*batch_size, batch_size))\n",
    "plt.plot(indep_train_axis, np.array(train_losses),     \"b--\", label=\"Train losses\")\n",
    "plt.plot(indep_train_axis, np.array(train_accuracies), \"g--\", label=\"Train accuracies\")\n",
    "\n",
    "indep_test_axis = range(len(test_losses))\n",
    "plt.plot(indep_test_axis, np.array(test_losses),     \"b-\", label=\"Test losses\")\n",
    "plt.plot(indep_test_axis, np.array(test_accuracies), \"g-\", label=\"Test accuracies\")\n",
    "\n",
    "plt.axhline(y=1.0, c='r')\n",
    "plt.axhline(y=0.9, c='orange')\n",
    "\n",
    "plt.title(\"Training session's progress over iterations\")\n",
    "plt.legend(loc='upper right', shadow=True)\n",
    "plt.ylabel('Training Progress (Loss or Accuracy values)')\n",
    "plt.xlabel('Training iteration')\n",
    "plt.ylim(0, 2)\n",
    "plt.show()"
   ]
  },
  {
   "cell_type": "markdown",
   "metadata": {},
   "source": [
    "## And finally, the multi-class confusion matrix and metrics!"
   ]
  },
  {
   "cell_type": "code",
   "execution_count": null,
   "metadata": {},
   "outputs": [],
   "source": [
    "# Results\n",
    "\n",
    "one_hot_predictions = np.array(sess.run(\n",
    "    [tfv.normal.pred], \n",
    "    feed_dict={\n",
    "        tfv.x: X_test,\n",
    "        tfv.y: one_hot(y_test)\n",
    "    }\n",
    "))\n",
    "one_hot_predictions.shape = one_hot_predictions.shape[1:]\n",
    "\n",
    "print(one_hot_predictions.shape)\n",
    "predictions = one_hot_predictions.argmax(axis=1)\n",
    "\n",
    "print(\"Testing Accuracy: {}%\".format(100*test_acc))\n",
    "\n",
    "print(predictions.shape)\n",
    "\n",
    "print(\"\")\n",
    "print(\"Precision: {}%\".format(100*metrics.precision_score(y_test, predictions, average=\"weighted\")))\n",
    "print(\"Recall: {}%\".format(100*metrics.recall_score(y_test, predictions, average=\"weighted\")))\n",
    "print(\"f1_score: {}%\".format(100*metrics.f1_score(y_test, predictions, average=\"weighted\")))\n",
    "\n",
    "print(\"\")\n",
    "print(\"Confusion Matrix:\")\n",
    "confusion_matrix = metrics.confusion_matrix(y_test, predictions)\n",
    "print(confusion_matrix)\n",
    "normalised_confusion_matrix = np.array(confusion_matrix, dtype=np.float32)/np.sum(confusion_matrix)*100\n",
    "\n",
    "print(\"\")\n",
    "print(\"Confusion matrix (normalised to % of total test data):\")\n",
    "print(normalised_confusion_matrix)\n",
    "print(\"Note: training and testing data is not equally distributed amongst classes, \")\n",
    "print(\"so it is normal that more than a 6th of the data is correctly classifier in the last category.\")\n",
    "\n",
    "# Plot Results: \n",
    "width = 12\n",
    "height = 12\n",
    "plt.figure(figsize=(width, height))\n",
    "plt.imshow(\n",
    "    normalised_confusion_matrix, \n",
    "    interpolation='nearest', \n",
    "    cmap=plt.cm.rainbow\n",
    ")\n",
    "plt.title(\"Confusion matrix \\n(normalised to % of total test data)\")\n",
    "plt.colorbar()\n",
    "tick_marks = np.arange(n_classes)\n",
    "plt.xticks(tick_marks, LABELS, rotation=90)\n",
    "plt.yticks(tick_marks, LABELS)\n",
    "plt.tight_layout()\n",
    "plt.ylabel('True label')\n",
    "plt.xlabel('Predicted label')\n",
    "plt.show()"
   ]
  },
  {
   "cell_type": "code",
   "execution_count": null,
   "metadata": {},
   "outputs": [],
   "source": [
    "sess.close()"
   ]
  },
  {
   "cell_type": "markdown",
   "metadata": {},
   "source": [
    "## Conclusion\n",
    "\n",
    "Outstandingly, **the final accuracy is of about 90%** (depends of launch)!\n",
    "\n",
    "This means that the neural networks is almost always able to correctly identify the movement type! Remember, the phone is attached on the waist and each series to classify has just a 128 sample window of two internal sensors (a.k.a. 2.56 seconds at 50 FPS), so those predictions are extremely accurate.\n",
    "\n",
    "I specially did not expect such good results for guessing between \"SITTING\" and \"STANDING\". Those are seemingly almost the same thing from the point of view of a device placed at waist level according to how the dataset was gathered. Thought, it is still possible to see a little cluster on the matrix between those classes, which drifts away from the identity. This is great.\n",
    "\n",
    "It is also possible to see that there was a slight difficulty in doing the difference between \"WALKING\", \"WALKING_UPSTAIRS\" and \"WALKING_DOWNSTAIRS\". Obviously, those activities are quite similar in terms of movements. "
   ]
  },
  {
   "cell_type": "code",
   "execution_count": null,
   "metadata": {},
   "outputs": [],
   "source": [
    "get_ipython().system(\"jupyter nbconvert --to markdown \" + nb_name)\n",
    "get_ipython().system(\"jupyter nbconvert --to python \" + nb_name)\n",
    "display(nb_name)\n",
    "pyname = nb_name[:-6] + \".py\"\n",
    "display(pyname)"
   ]
  },
  {
   "cell_type": "code",
   "execution_count": null,
   "metadata": {},
   "outputs": [],
   "source": [
    "raise KeyboardInterrupt(\"do not automatically run after it\")"
   ]
  },
  {
   "cell_type": "code",
   "execution_count": null,
   "metadata": {},
   "outputs": [],
   "source": []
  },
  {
   "cell_type": "markdown",
   "metadata": {},
   "source": [
    "## Parameters selection"
   ]
  },
  {
   "cell_type": "code",
   "execution_count": 1,
   "metadata": {},
   "outputs": [
    {
     "data": {
      "text/html": [
       "<div>\n",
       "<style>\n",
       "    .dataframe thead tr:only-child th {\n",
       "        text-align: right;\n",
       "    }\n",
       "\n",
       "    .dataframe thead th {\n",
       "        text-align: left;\n",
       "    }\n",
       "\n",
       "    .dataframe tbody tr th {\n",
       "        vertical-align: top;\n",
       "    }\n",
       "</style>\n",
       "<table border=\"1\" class=\"dataframe\">\n",
       "  <thead>\n",
       "    <tr style=\"text-align: right;\">\n",
       "      <th></th>\n",
       "      <th>accuracy</th>\n",
       "      <th>batch_size</th>\n",
       "      <th>lr</th>\n",
       "      <th>memory</th>\n",
       "      <th>n_hidden</th>\n",
       "      <th>time</th>\n",
       "      <th>training_iterate_dataset_times</th>\n",
       "    </tr>\n",
       "  </thead>\n",
       "  <tbody>\n",
       "    <tr>\n",
       "      <th>0</th>\n",
       "      <td>0.687818</td>\n",
       "      <td>2000</td>\n",
       "      <td>0.0025</td>\n",
       "      <td>532</td>\n",
       "      <td>1</td>\n",
       "      <td>548.227052</td>\n",
       "      <td>200</td>\n",
       "    </tr>\n",
       "    <tr>\n",
       "      <th>1</th>\n",
       "      <td>0.777061</td>\n",
       "      <td>2000</td>\n",
       "      <td>0.0025</td>\n",
       "      <td>728</td>\n",
       "      <td>2</td>\n",
       "      <td>566.613513</td>\n",
       "      <td>200</td>\n",
       "    </tr>\n",
       "  </tbody>\n",
       "</table>\n",
       "</div>"
      ],
      "text/plain": [
       "   accuracy  batch_size      lr  memory  n_hidden        time  \\\n",
       "0  0.687818        2000  0.0025     532         1  548.227052   \n",
       "1  0.777061        2000  0.0025     728         2  566.613513   \n",
       "\n",
       "   training_iterate_dataset_times  \n",
       "0                             200  \n",
       "1                             200  "
      ]
     },
     "execution_count": 1,
     "metadata": {},
     "output_type": "execute_result"
    }
   ],
   "source": [
    "import pandas as pd\n",
    "def dict_protocol_to_dataframe(protocol):\n",
    "    return pd.read_json('[' + protocol.replace(\"'\", '\"').replace('\\n', ',')\n",
    "                                      .replace('True', 'true').replace('False', 'false')+ ']')\n",
    "\n",
    "dict_protocol_to_dataframe(\"\"\"\\\n",
    "{'time': 548.2270517349243, 'n_hidden': 1, 'lr': 0.0025, 'accuracy': 0.6878181099891663, 'memory': 532, 'batch_size': 2000, 'training_iterate_dataset_times': 200}\n",
    "{'lr': 0.0025, 'training_iterate_dataset_times': 200, 'n_hidden': 2, 'batch_size': 2000, 'accuracy': 0.7770613431930542, 'memory': 728, 'time': 566.6135125160217}\\\n",
    "\"\"\")"
   ]
  },
  {
   "cell_type": "code",
   "execution_count": null,
   "metadata": {},
   "outputs": [],
   "source": [
    "#bench hhidden\n",
    "bench_cmd = \"\"\"\n",
    "for i in {1..25}; do \\\n",
    "    python3 %s \\\n",
    "    --nhidden $i --training_iterate_dataset_times 200\\\n",
    "    2> full_bench.err \\\n",
    "    | tee -a full_bench.log \\\n",
    "    | grep -e \"^RESULT\" | cut -c 8- \\\n",
    "    | tee -a bench.log; \\\n",
    "done\n",
    "\"\"\" % pyname\n",
    "get_ipython().system(\"bash -c '\" + bench_cmd + \"'\")"
   ]
  },
  {
   "cell_type": "code",
   "execution_count": null,
   "metadata": {},
   "outputs": [],
   "source": [
    "bench_nhidden_protocol = \"\"\"\\\n",
    "{'n_hidden': 1, 'memory': 508, 'accuracy': 0.6627078056335449, 'batch_size': 800, 'use_rmsprop': False, 'use_adam': False, 'training_iterate_dataset_times': 200, 'lr': 0.0025, 'time': 772.0379655361176}\n",
    "{'use_rmsprop': False, 'training_iterate_dataset_times': 200, 'use_adam': False, 'accuracy': 0.5758398175239563, 'n_hidden': 2, 'time': 720.3474073410034, 'batch_size': 800, 'memory': 680, 'lr': 0.0025}\n",
    "{'memory': 900, 'accuracy': 0.6057007312774658, 'n_hidden': 3, 'batch_size': 800, 'use_rmsprop': False, 'lr': 0.0025, 'training_iterate_dataset_times': 200, 'use_adam': False, 'time': 662.5361175537109}\n",
    "{'accuracy': 0.6674584150314331, 'time': 655.1994025707245, 'training_iterate_dataset_times': 200, 'memory': 1168, 'use_adam': False, 'lr': 0.0025, 'batch_size': 800, 'use_rmsprop': False, 'n_hidden': 4}\n",
    "{'batch_size': 800, 'memory': 1484, 'accuracy': 0.5341024398803711, 'n_hidden': 5, 'training_iterate_dataset_times': 200, 'lr': 0.0025, 'time': 678.890563249588, 'use_rmsprop': False, 'use_adam': False}\n",
    "{'n_hidden': 6, 'use_adam': False, 'accuracy': 0.6016287207603455, 'memory': 1848, 'use_rmsprop': False, 'lr': 0.0025, 'training_iterate_dataset_times': 200, 'batch_size': 800, 'time': 674.8454222679138}\n",
    "{'batch_size': 800, 'use_adam': False, 'use_rmsprop': False, 'lr': 0.0025, 'time': 669.8843955993652, 'accuracy': 0.7003732323646545, 'training_iterate_dataset_times': 200, 'n_hidden': 7, 'memory': 2260}\n",
    "{'accuracy': 0.751272439956665, 'memory': 2720, 'use_adam': False, 'training_iterate_dataset_times': 200, 'time': 660.9931690692902, 'n_hidden': 8, 'use_rmsprop': False, 'batch_size': 800, 'lr': 0.0025}\n",
    "{'accuracy': 0.5656599998474121, 'time': 707.3295772075653, 'lr': 0.0025, 'batch_size': 800, 'training_iterate_dataset_times': 200, 'use_adam': False, 'n_hidden': 9, 'memory': 3228, 'use_rmsprop': False}\n",
    "{'batch_size': 800, 'training_iterate_dataset_times': 200, 'n_hidden': 10, 'time': 715.7435595989227, 'lr': 0.0025, 'memory': 3784, 'accuracy': 0.6973192691802979, 'use_rmsprop': False, 'use_adam': False}\n",
    "{'training_iterate_dataset_times': 200, 'lr': 0.0025, 'time': 732.3185958862305, 'use_rmsprop': False, 'n_hidden': 11, 'accuracy': 0.6430268287658691, 'use_adam': False, 'memory': 4388, 'batch_size': 800}\n",
    "{'batch_size': 800, 'accuracy': 0.7360026836395264, 'n_hidden': 12, 'use_adam': False, 'lr': 0.0025, 'use_rmsprop': False, 'memory': 5040, 'time': 742.9097394943237, 'training_iterate_dataset_times': 200}\n",
    "{'use_adam': False, 'memory': 5740, 'time': 760.5904695987701, 'training_iterate_dataset_times': 200, 'batch_size': 800, 'lr': 0.0025, 'use_rmsprop': False, 'accuracy': 0.6942652463912964, 'n_hidden': 13}\n",
    "{'use_rmsprop': False, 'training_iterate_dataset_times': 200, 'memory': 6488, 'lr': 0.0025, 'batch_size': 800, 'time': 776.510192155838, 'n_hidden': 14, 'accuracy': 0.8008143901824951, 'use_adam': False}\n",
    "{'lr': 0.0025, 'n_hidden': 15, 'time': 790.9602189064026, 'memory': 7284, 'batch_size': 800, 'training_iterate_dataset_times': 200, 'use_adam': False, 'accuracy': 0.7488970756530762, 'use_rmsprop': False}\n",
    "{'lr': 0.0025, 'n_hidden': 16, 'use_rmsprop': False, 'memory': 8128, 'use_adam': False, 'batch_size': 800, 'time': 796.3274857997894, 'training_iterate_dataset_times': 200, 'accuracy': 0.7492364645004272}\n",
    "{'use_adam': False, 'time': 979.4974310398102, 'training_iterate_dataset_times': 200, 'n_hidden': 17, 'accuracy': 0.8154054880142212, 'memory': 9020, 'batch_size': 800, 'use_rmsprop': False, 'lr': 0.0025}\n",
    "{'use_adam': False, 'use_rmsprop': False, 'n_hidden': 18, 'memory': 9960, 'batch_size': 800, 'accuracy': 0.819477379322052, 'lr': 0.0025, 'training_iterate_dataset_times': 200, 'time': 998.5558381080627}\n",
    "{'memory': 10948, 'n_hidden': 19, 'use_adam': False, 'training_iterate_dataset_times': 200, 'lr': 0.0025, 'accuracy': 0.7227687835693359, 'time': 1023.3071684837341, 'batch_size': 800, 'use_rmsprop': False}\n",
    "{'accuracy': 0.6416694521903992, 'memory': 11984, 'lr': 0.0025, 'use_rmsprop': False, 'time': 1031.0319290161133, 'batch_size': 800, 'training_iterate_dataset_times': 200, 'use_adam': False, 'n_hidden': 20}\n",
    "{'lr': 0.0025, 'batch_size': 800, 'memory': 13068, 'time': 1062.1775381565094, 'training_iterate_dataset_times': 200, 'accuracy': 0.6420088410377502, 'use_rmsprop': False, 'n_hidden': 21, 'use_adam': False}\n",
    "{'use_adam': False, 'lr': 0.0025, 'training_iterate_dataset_times': 200, 'time': 1144.7650830745697, 'memory': 14200, 'n_hidden': 22, 'batch_size': 800, 'use_rmsprop': False, 'accuracy': 0.6321682333946228}\n",
    "{'training_iterate_dataset_times': 200, 'use_adam': False, 'lr': 0.0025, 'memory': 15380, 'time': 1155.4969289302826, 'n_hidden': 23, 'accuracy': 0.7919918298721313, 'batch_size': 800, 'use_rmsprop': False}\n",
    "{'n_hidden': 24, 'use_rmsprop': False, 'memory': 16608, 'batch_size': 800, 'training_iterate_dataset_times': 200, 'accuracy': 0.634882926940918, 'time': 1172.9154741764069, 'lr': 0.0025, 'use_adam': False}\n",
    "{'time': 1240.9481527805328, 'use_rmsprop': False, 'memory': 17884, 'accuracy': 0.831693172454834, 'batch_size': 800, 'training_iterate_dataset_times': 200, 'n_hidden': 25, 'lr': 0.0025, 'use_adam': False}\"\"\"\n",
    "\n",
    "data = dict_protocol_to_dataframe(bench_nhidden_protocol)\n",
    "data = data.set_index('n_hidden')\n",
    "\n",
    "data[[\"accuracy\", \"memory\", \"time\"]].plot(subplots=True, figsize=(10,15), title=\"Selecting nhidden\")\n",
    "plt.show()"
   ]
  },
  {
   "cell_type": "code",
   "execution_count": null,
   "metadata": {},
   "outputs": [],
   "source": [
    "#bench hhidden\n",
    "bench_cmd = \"\"\"\n",
    "for i in %s; do \\\n",
    "    python3 %s \\\n",
    "    --lr $i --training_iterate_dataset_times 200\\\n",
    "    2> full_bench.err \\\n",
    "    | tee -a full_bench.log \\\n",
    "    | grep -e \"^RESULT\" | cut -c 8- \\\n",
    "    | tee -a bench.log; \\\n",
    "done\n",
    "\"\"\" % (\" \".join(map(str, np.arange(0.0005, 0.005, 0.0002))), pyname)\n",
    "get_ipython().system(\"bash -c '\" + bench_cmd + \"'\")"
   ]
  },
  {
   "cell_type": "code",
   "execution_count": null,
   "metadata": {},
   "outputs": [],
   "source": [
    "bench_nhidden_protocol = \"\"\"\\\n",
    "{'training_iterate_dataset_times': 200, 'time': 794.8192670345306, 'n_hidden': 16, 'use_rmsprop': False, 'memory': 8128, 'lr': 0.0005, 'batch_size': 800, 'use_adam': False, 'accuracy': 0.7037665247917175}\n",
    "{'n_hidden': 16, 'use_rmsprop': False, 'time': 791.1197946071625, 'lr': 0.0007, 'batch_size': 800, 'training_iterate_dataset_times': 200, 'accuracy': 0.7231082320213318, 'memory': 8128, 'use_adam': False}\n",
    "{'lr': 0.0009, 'batch_size': 800, 'use_adam': False, 'training_iterate_dataset_times': 200, 'accuracy': 0.809297502040863, 'memory': 8128, 'use_rmsprop': False, 'n_hidden': 16, 'time': 795.8083786964417}\n",
    "{'batch_size': 800, 'memory': 8128, 'time': 794.4841299057007, 'use_rmsprop': False, 'training_iterate_dataset_times': 200, 'accuracy': 0.7885985374450684, 'n_hidden': 16, 'use_adam': False, 'lr': 0.0011}\n",
    "{'memory': 8128, 'use_rmsprop': False, 'lr': 0.0013, 'batch_size': 800, 'use_adam': False, 'n_hidden': 16, 'training_iterate_dataset_times': 200, 'accuracy': 0.7862231731414795, 'time': 792.6490998268127}\n",
    "{'batch_size': 800, 'memory': 8128, 'use_rmsprop': False, 'time': 808.8380537033081, 'training_iterate_dataset_times': 200, 'n_hidden': 16, 'accuracy': 0.7356632947921753, 'lr': 0.0015, 'use_adam': False}\n",
    "{'memory': 8128, 'use_rmsprop': False, 'training_iterate_dataset_times': 200, 'lr': 0.0017, 'time': 816.4750707149506, 'use_adam': False, 'accuracy': 0.5914489030838013, 'batch_size': 800, 'n_hidden': 16}\n",
    "{'use_adam': False, 'accuracy': 0.6627078056335449, 'use_rmsprop': False, 'time': 821.1141517162323, 'training_iterate_dataset_times': 200, 'batch_size': 800, 'memory': 8128, 'n_hidden': 16, 'lr': 0.0019}\n",
    "{'n_hidden': 16, 'use_rmsprop': False, 'lr': 0.0021, 'time': 810.5998747348785, 'accuracy': 0.7943670749664307, 'memory': 8128, 'use_adam': False, 'training_iterate_dataset_times': 200, 'batch_size': 800}\n",
    "{'time': 816.5132377147675, 'use_adam': False, 'use_rmsprop': False, 'memory': 8128, 'training_iterate_dataset_times': 200, 'accuracy': 0.8266032934188843, 'n_hidden': 16, 'lr': 0.0023, 'batch_size': 800}\n",
    "{'lr': 0.0025, 'n_hidden': 16, 'use_adam': False, 'memory': 8128, 'accuracy': 0.7315914034843445, 'use_rmsprop': False, 'batch_size': 800, 'training_iterate_dataset_times': 200, 'time': 810.8860170841217}\n",
    "{'training_iterate_dataset_times': 200, 'batch_size': 800, 'time': 816.7522842884064, 'n_hidden': 16, 'use_rmsprop': False, 'lr': 0.0027, 'memory': 8128, 'accuracy': 0.6118085980415344, 'use_adam': False}\n",
    "{'use_adam': False, 'memory': 8128, 'n_hidden': 16, 'use_rmsprop': False, 'accuracy': 0.8361043930053711, 'time': 815.2302830219269, 'training_iterate_dataset_times': 200, 'batch_size': 800, 'lr': 0.0029}\n",
    "{'n_hidden': 16, 'time': 815.0186021327972, 'lr': 0.0031, 'training_iterate_dataset_times': 200, 'memory': 8128, 'use_rmsprop': False, 'batch_size': 800, 'use_adam': False, 'accuracy': 0.8364437818527222}\n",
    "{'training_iterate_dataset_times': 200, 'lr': 0.0033, 'time': 814.5488564968109, 'accuracy': 0.6331862807273865, 'use_rmsprop': False, 'batch_size': 800, 'memory': 8128, 'n_hidden': 16, 'use_adam': False}\n",
    "{'lr': 0.0035, 'batch_size': 800, 'accuracy': 0.6196131110191345, 'use_rmsprop': False, 'time': 815.6647927761078, 'training_iterate_dataset_times': 200, 'memory': 8128, 'use_adam': False, 'n_hidden': 16}\n",
    "{'lr': 0.0037, 'n_hidden': 16, 'accuracy': 0.6630471348762512, 'memory': 8128, 'batch_size': 800, 'training_iterate_dataset_times': 200, 'time': 812.8441379070282, 'use_adam': False, 'use_rmsprop': False}\n",
    "{'use_rmsprop': False, 'n_hidden': 16, 'time': 815.5419595241547, 'batch_size': 800, 'training_iterate_dataset_times': 200, 'lr': 0.0039, 'use_adam': False, 'memory': 8128, 'accuracy': 0.8381404280662537}\n",
    "{'accuracy': 0.7933490872383118, 'n_hidden': 16, 'use_adam': False, 'use_rmsprop': False, 'lr': 0.0041, 'memory': 8128, 'batch_size': 800, 'training_iterate_dataset_times': 200, 'time': 813.244401216507}\n",
    "{'lr': 0.0043, 'accuracy': 0.8523921966552734, 'batch_size': 800, 'use_rmsprop': False, 'training_iterate_dataset_times': 200, 'time': 810.2618834972382, 'n_hidden': 16, 'use_adam': False, 'memory': 8128}\n",
    "{'memory': 8128, 'batch_size': 800, 'use_rmsprop': False, 'time': 814.5698442459106, 'use_adam': False, 'accuracy': 0.763488233089447, 'lr': 0.0045, 'training_iterate_dataset_times': 200, 'n_hidden': 16}\n",
    "{'training_iterate_dataset_times': 200, 'use_adam': False, 'n_hidden': 16, 'use_rmsprop': False, 'memory': 8128, 'lr': 0.0047, 'accuracy': 0.8483203053474426, 'time': 815.120082616806, 'batch_size': 800}\n",
    "{'n_hidden': 16, 'batch_size': 800, 'lr': 0.0049, 'memory': 8128, 'use_rmsprop': False, 'accuracy': 0.742110550403595, 'time': 814.3666989803314, 'training_iterate_dataset_times': 200, 'use_adam': False}\"\"\"\n",
    "\n",
    "data = dict_protocol_to_dataframe(bench_nhidden_protocol)\n",
    "data = data.set_index('lr')\n",
    "\n",
    "data[[\"accuracy\", \"memory\", \"time\"]].plot(subplots=True, figsize=(10,15), title=\"Selecting learning rate\")\n",
    "plt.show()"
   ]
  },
  {
   "cell_type": "code",
   "execution_count": null,
   "metadata": {},
   "outputs": [],
   "source": []
  },
  {
   "cell_type": "code",
   "execution_count": null,
   "metadata": {
    "scrolled": true
   },
   "outputs": [],
   "source": [
    "#bench hhidden\n",
    "bench_cmd = \"\"\"\n",
    "for i in %s; do \\\n",
    "    python3 %s \\\n",
    "    --bsize $i --training_iterate_dataset_times 200\\\n",
    "    2> full_bench.err \\\n",
    "    | tee -a full_bench.log \\\n",
    "    | grep -e \"^RESULT\" | cut -c 8- \\\n",
    "    | tee -a bench.log; \\\n",
    "done\n",
    "\"\"\" % (\" \".join(map(str, np.arange(400, 4000, 200))), pyname)\n",
    "print(bench_cmd)\n",
    "get_ipython().system(\"bash -c '\" + bench_cmd + \"'\")"
   ]
  },
  {
   "cell_type": "code",
   "execution_count": null,
   "metadata": {},
   "outputs": [],
   "source": [
    "bench_bsize_protocol = \"\"\"\\\n",
    "{'use_rmsprop': False, 'batch_size': 400, 'time': 1041.1525554656982, 'accuracy': 0.8276212215423584, 'n_hidden': 16, 'training_iterate_dataset_times': 200, 'memory': 8128, 'lr': 0.0025, 'use_adam': False}\n",
    "{'accuracy': 0.7380385994911194, 'time': 897.4389636516571, 'lr': 0.0025, 'memory': 8128, 'training_iterate_dataset_times': 200, 'use_rmsprop': False, 'batch_size': 600, 'n_hidden': 16, 'use_adam': False}\n",
    "{'accuracy': 0.6677977442741394, 'time': 811.6754739284515, 'training_iterate_dataset_times': 200, 'batch_size': 800, 'use_rmsprop': False, 'memory': 8128, 'n_hidden': 16, 'use_adam': False, 'lr': 0.0025}\n",
    "{'use_adam': False, 'lr': 0.0025, 'use_rmsprop': False, 'time': 878.8416509628296, 'batch_size': 1000, 'training_iterate_dataset_times': 200, 'memory': 8128, 'n_hidden': 16, 'accuracy': 0.621309757232666}\n",
    "{'memory': 8128, 'batch_size': 1200, 'training_iterate_dataset_times': 200, 'n_hidden': 16, 'accuracy': 0.7295553684234619, 'use_adam': False, 'time': 910.5316579341888, 'use_rmsprop': False, 'lr': 0.0025}\n",
    "{'use_adam': False, 'time': 899.1035013198853, 'batch_size': 1400, 'lr': 0.0025, 'use_rmsprop': False, 'memory': 8128, 'training_iterate_dataset_times': 200, 'accuracy': 0.6094332933425903, 'n_hidden': 16}\n",
    "{'lr': 0.0025, 'n_hidden': 16, 'training_iterate_dataset_times': 200, 'use_adam': False, 'batch_size': 1600, 'memory': 8128, 'accuracy': 0.6158804893493652, 'use_rmsprop': False, 'time': 902.1990230083466}\n",
    "{'n_hidden': 16, 'training_iterate_dataset_times': 200, 'use_adam': False, 'use_rmsprop': False, 'memory': 8128, 'time': 898.3028283119202, 'batch_size': 1800, 'accuracy': 0.6420087814331055, 'lr': 0.0025}\n",
    "{'n_hidden': 16, 'training_iterate_dataset_times': 200, 'lr': 0.0025, 'time': 896.1048786640167, 'batch_size': 2000, 'use_adam': False, 'use_rmsprop': False, 'accuracy': 0.5846623182296753, 'memory': 8128}\n",
    "{'time': 854.5555908679962, 'n_hidden': 16, 'accuracy': 0.6420087218284607, 'batch_size': 2200, 'use_adam': False, 'training_iterate_dataset_times': 200, 'use_rmsprop': False, 'memory': 8128, 'lr': 0.0025}\n",
    "{'time': 842.2896134853363, 'training_iterate_dataset_times': 200, 'accuracy': 0.5222259163856506, 'lr': 0.0025, 'batch_size': 2400, 'n_hidden': 16, 'use_adam': False, 'memory': 8128, 'use_rmsprop': False}\n",
    "{'accuracy': 0.647438108921051, 'use_adam': False, 'n_hidden': 16, 'memory': 8128, 'lr': 0.0025, 'training_iterate_dataset_times': 200, 'batch_size': 2600, 'use_rmsprop': False, 'time': 850.2778007984161}\n",
    "{'training_iterate_dataset_times': 200, 'memory': 8128, 'use_rmsprop': False, 'lr': 0.0025, 'batch_size': 2800, 'time': 822.6956253051758, 'n_hidden': 16, 'accuracy': 0.6915506720542908, 'use_adam': False}\n",
    "{'n_hidden': 16, 'accuracy': 0.5951814651489258, 'memory': 8128, 'time': 826.1692667007446, 'lr': 0.0025, 'use_adam': False, 'training_iterate_dataset_times': 200, 'batch_size': 3000, 'use_rmsprop': False}\n",
    "{'accuracy': 0.5945028066635132, 'training_iterate_dataset_times': 200, 'time': 817.3396935462952, 'use_rmsprop': False, 'memory': 8128, 'use_adam': False, 'lr': 0.0025, 'n_hidden': 16, 'batch_size': 3200}\n",
    "{'memory': 8128, 'batch_size': 3400, 'training_iterate_dataset_times': 200, 'use_rmsprop': False, 'time': 824.8832528591156, 'use_adam': False, 'lr': 0.0025, 'accuracy': 0.6779775619506836, 'n_hidden': 16}\n",
    "{'time': 819.2803962230682, 'n_hidden': 16, 'training_iterate_dataset_times': 200, 'use_adam': False, 'memory': 8128, 'lr': 0.0025, 'accuracy': 0.5592126846313477, 'batch_size': 3600, 'use_rmsprop': False}\n",
    "{'batch_size': 3800, 'use_adam': False, 'memory': 8128, 'training_iterate_dataset_times': 200, 'time': 831.1241354942322, 'use_rmsprop': False, 'n_hidden': 16, 'lr': 0.0025, 'accuracy': 0.6311503052711487}\"\"\"\n",
    "data = dict_protocol_to_dataframe(bench_bsize_protocol)\n",
    "data = data.set_index('batch_size')\n",
    "\n",
    "data[[\"accuracy\", \"memory\", \"time\"]].plot(subplots=True, figsize=(10,15), title=\"Selecting bsize\")\n",
    "plt.show()"
   ]
  },
  {
   "cell_type": "code",
   "execution_count": null,
   "metadata": {},
   "outputs": [],
   "source": [
    "#bench ewma\n",
    "bench_cmd = \"\"\"\n",
    "for i in %s; do \\\n",
    "    python3 %s \\\n",
    "    --ewma $i --training_iterate_dataset_times 200\\\n",
    "    2> full_bench.err \\\n",
    "    | tee -a full_bench.log \\\n",
    "    | grep -e \"^RESULT\" | cut -c 8- \\\n",
    "    | tee -a bench.log; \\\n",
    "done\n",
    "\"\"\" % (\" \".join(map(str, np.arange(0, 10, 1))), pyname)\n",
    "print(bench_cmd)\n",
    "get_ipython().system(\"bash -c '\" + bench_cmd + \"'\")"
   ]
  },
  {
   "cell_type": "code",
   "execution_count": 10,
   "metadata": {},
   "outputs": [
    {
     "data": {
      "image/png": "[encoded data removed]",
      "text/plain": [
       "<matplotlib.figure.Figure at 0x7f0c57bd7eb8>"
      ]
     },
     "metadata": {},
     "output_type": "display_data"
    },
    {
     "data": {
      "image/png": "[encoded data removed]",
      "text/plain": [
       "<matplotlib.figure.Figure at 0x7f0c12f343c8>"
      ]
     },
     "metadata": {},
     "output_type": "display_data"
    }
   ],
   "source": [
    "bench_ewma_protocol = \"\"\"\\\n",
    "{'memory': 8128, 'training_iterate_dataset_times': 200, 'use_rmsprop': False, 'n_hidden': 16, 'accuracy': 0.6569392681121826, 'ewma_halflife': 0, 'lr': 0.0025, 'time': 1063.763150215149, 'use_adam': False, 'batch_size': 400}\n",
    "{'use_rmsprop': False, 'time': 1040.7033743858337, 'lr': 0.0025, 'memory': 8320, 'ewma_halflife': 1, 'batch_size': 400, 'use_adam': False, 'training_iterate_dataset_times': 200, 'accuracy': 0.8374617695808411, 'n_hidden': 16}\n",
    "{'accuracy': 0.8707159161567688, 'lr': 0.0025, 'training_iterate_dataset_times': 200, 'batch_size': 400, 'time': 1038.3529443740845, 'memory': 8320, 'n_hidden': 16, 'ewma_halflife': 2, 'use_rmsprop': False, 'use_adam': False}\n",
    "{'use_adam': False, 'accuracy': 0.8883609771728516, 'n_hidden': 16, 'lr': 0.0025, 'use_rmsprop': False, 'batch_size': 400, 'time': 1040.9371156692505, 'training_iterate_dataset_times': 200, 'memory': 8320, 'ewma_halflife': 3}\n",
    "{'use_rmsprop': False, 'time': 1041.6433839797974, 'training_iterate_dataset_times': 200, 'accuracy': 0.8914148807525635, 'memory': 8320, 'use_adam': False, 'batch_size': 400, 'n_hidden': 16, 'lr': 0.0025, 'ewma_halflife': 4}\n",
    "{'use_rmsprop': False, 'batch_size': 400, 'memory': 8320, 'accuracy': 0.8849676847457886, 'use_adam': False, 'lr': 0.0025, 'time': 1012.2724695205688, 'ewma_halflife': 5, 'n_hidden': 16, 'training_iterate_dataset_times': 200}\n",
    "{'batch_size': 400, 'training_iterate_dataset_times': 200, 'n_hidden': 16, 'time': 1012.6590631008148, 'use_rmsprop': False, 'accuracy': 0.880895733833313, 'lr': 0.0025, 'memory': 8320, 'use_adam': False, 'ewma_halflife': 6}\n",
    "{'time': 1010.5400428771973, 'n_hidden': 16, 'batch_size': 400, 'memory': 8320, 'training_iterate_dataset_times': 200, 'use_adam': False, 'ewma_halflife': 7, 'accuracy': 0.8642686605453491, 'use_rmsprop': False, 'lr': 0.0025}\n",
    "{'accuracy': 0.8761452436447144, 'ewma_halflife': 8, 'training_iterate_dataset_times': 200, 'use_rmsprop': False, 'use_adam': False, 'time': 1010.3032009601593, 'memory': 8320, 'lr': 0.0025, 'n_hidden': 16, 'batch_size': 400}\n",
    "{'time': 1022.1381559371948, 'lr': 0.0025, 'memory': 8320, 'n_hidden': 16, 'training_iterate_dataset_times': 200, 'ewma_halflife': 9, 'accuracy': 0.8934508562088013, 'batch_size': 400, 'use_rmsprop': False, 'use_adam': False}\"\"\"\n",
    "data = dict_protocol_to_dataframe(bench_ewma_protocol)\n",
    "data = data.set_index('ewma_halflife')\n",
    "\n",
    "data[[\"accuracy\", \"memory\", \"time\"]].plot(subplots=True, figsize=(10,15), title=\"Selecting bsize\")\n",
    "plt.show()"
   ]
  },
  {
   "cell_type": "code",
   "execution_count": null,
   "metadata": {},
   "outputs": [],
   "source": []
  }
 ],
 "metadata": {
  "hide_input": false,
  "kernelspec": {
   "display_name": "Python 3",
   "language": "python",
   "name": "python3"
  },
  "language_info": {
   "codemirror_mode": {
    "name": "ipython",
    "version": 3
   },
   "file_extension": ".py",
   "mimetype": "text/x-python",
   "name": "python",
   "nbconvert_exporter": "python",
   "pygments_lexer": "ipython3",
   "version": "3.5.2"
  }
 },
 "nbformat": 4,
 "nbformat_minor": 2
}
